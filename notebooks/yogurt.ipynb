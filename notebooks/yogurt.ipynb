{
 "cells": [
  {
   "cell_type": "markdown",
   "metadata": {
    "slideshow": {
     "slide_type": "slide"
    }
   },
   "source": [
    "<center>\n",
    "    <h1>🍶 <b style=\"color: lightblue\">\"Churning\"</b> the data 🍶</h1>\n",
    "    <h3>An exploratory data analysis of yogurt brands <s>Twi...</s> <span style=\"color: cornflowerblue;\">𝕏</span>.com</h3>\n",
    "</center>"
   ]
  },
  {
   "cell_type": "markdown",
   "metadata": {
    "slideshow": {
     "slide_type": "slide"
    }
   },
   "source": [
    "- <b><span style=\"color:#0074D9\">Main Objective:</span></b> to give a detailed data analysis of data acquired from 𝕏 in order to equip our client with actionable, evidence-based insights.\n",
    "  - Provide a clean dataset, separated by company type\n",
    "  - Garner tweet <i>(or xeet or whatever they're called now)</i> sentiment using a pretrained model from huggingface🤗\n",
    "  - Classify tweets into complaints that could be potentially detrimental to the brand.\n",
    "  - Report on the broad themes discovered from our analysis.\n"
   ]
  },
  {
   "cell_type": "markdown",
   "metadata": {
    "slideshow": {
     "slide_type": "slide"
    }
   },
   "source": [
    "### Let's start by importing our dependencies"
   ]
  },
  {
   "cell_type": "code",
   "execution_count": 1,
   "metadata": {
    "slideshow": {
     "slide_type": "fragment"
    }
   },
   "outputs": [
    {
     "name": "stdout",
     "output_type": "stream",
     "text": [
      "Using MPS (Metal GPU) device.\n"
     ]
    },
    {
     "name": "stderr",
     "output_type": "stream",
     "text": [
      "WARNING[XFORMERS]: xFormers can't load C++/CUDA extensions. xFormers was built for:\n",
      "    PyTorch 2.0.1 with CUDA None (you have 2.1.0.dev20230803)\n",
      "    Python  3.11.4 (you have 3.11.4)\n",
      "  Please reinstall xformers (see https://github.com/facebookresearch/xformers#installing-xformers)\n",
      "  Memory-efficient attention, SwiGLU, sparse and more won't be available.\n",
      "  Set XFORMERS_MORE_DETAILS=1 for more details\n",
      "[nltk_data] Downloading package punkt to /Users/joshualawrence/anacond\n",
      "[nltk_data]     a3/envs/ds_project/lib/nltk_data...\n",
      "[nltk_data]   Package punkt is already up-to-date!\n",
      "[nltk_data] Downloading package stopwords to /Users/joshualawrence/ana\n",
      "[nltk_data]     conda3/envs/ds_project/lib/nltk_data...\n",
      "[nltk_data]   Package stopwords is already up-to-date!\n",
      "[nltk_data] Downloading package twitter_samples to /Users/joshualawren\n",
      "[nltk_data]     ce/anaconda3/envs/ds_project/lib/nltk_data...\n",
      "[nltk_data]   Package twitter_samples is already up-to-date!\n"
     ]
    }
   ],
   "source": [
    "import os\n",
    "# import all dependencies\n",
    "import sys\n",
    "from pathlib import Path\n",
    "import pandas as pd\n",
    "from IPython.display import display\n",
    "\n",
    "os.chdir('..')\n",
    "if os.getcwd() not in sys.path:\n",
    "    sys.path.append(os.getcwd())\n",
    "\n",
    "from src.processing.preprocess import *\n",
    "from src.resources.brands_data import Brand, brands\n",
    "from src.resources.word_lists import *\n",
    "from src.processing.sentiment_analysis import analyze\n",
    "from src.processing.theme_analyzer import theme_analyzer_main"
   ]
  },
  {
   "cell_type": "markdown",
   "metadata": {
    "slideshow": {
     "slide_type": "slide"
    }
   },
   "source": [
    "## `Step 0: Setup the environment`\n",
    "\n",
    "1. Set up project using conda\n",
    "2. Set up tiered, multi-environment approach utilizing either CUDA or MPS (Metal Performance Shaders) based on OS environment\n",
    "    ```python\n",
    "    # Check if MPS is available\n",
    "    if torch.backends.mps.is_available():\n",
    "        device = torch.device(\"mps\")\n",
    "        print(\"Using MPS (Metal GPU) device.\")\n",
    "    elif torch.cuda.is_available():\n",
    "        device = torch.device(\"cuda\")\n",
    "        print(\"Using CUDA device.\")\n",
    "    else:\n",
    "        device = torch.device(\"cpu\")\n",
    "        print(\"Using CPU device.\")\n",
    "    ```\n",
    "3. Chose dependencies\n",
    "    * [Twitter-roBERTa-base](https://huggingface.co/cardiffnlp/twitter-roberta-base-sentiment-latest) for Sentiment Analysis\n",
    "    * [NLTK](https://www.nltk.org/) for tokenization and frequency analysis"
   ]
  },
  {
   "cell_type": "markdown",
   "metadata": {
    "slideshow": {
     "slide_type": "slide"
    }
   },
   "source": [
    "## `Step 1: Clean the data`\n"
   ]
  },
  {
   "cell_type": "markdown",
   "metadata": {
    "slideshow": {
     "slide_type": "fragment"
    }
   },
   "source": [
    "### Data Preparation: 3 CSVs ➡ 1 DataFrame\n",
    "\n",
    "* We started our analysis by combining the separate raw csv files into a single dataframe and removing any twitter links."
   ]
  },
  {
   "cell_type": "code",
   "execution_count": 2,
   "metadata": {
    "slideshow": {
     "slide_type": "fragment"
    }
   },
   "outputs": [
    {
     "name": "stdout",
     "output_type": "stream",
     "text": [
      "Number of csv files ::: 3\n",
      "Combined data frame length ::: 31567 rows\n"
     ]
    },
    {
     "data": {
      "text/html": [
       "<div>\n",
       "<style scoped>\n",
       "    .dataframe tbody tr th:only-of-type {\n",
       "        vertical-align: middle;\n",
       "    }\n",
       "\n",
       "    .dataframe tbody tr th {\n",
       "        vertical-align: top;\n",
       "    }\n",
       "\n",
       "    .dataframe thead th {\n",
       "        text-align: right;\n",
       "    }\n",
       "</style>\n",
       "<table border=\"1\" class=\"dataframe\">\n",
       "  <thead>\n",
       "    <tr style=\"text-align: right;\">\n",
       "      <th></th>\n",
       "      <th>Key</th>\n",
       "      <th>text</th>\n",
       "      <th>lang</th>\n",
       "      <th>created_at</th>\n",
       "      <th>created_day</th>\n",
       "      <th>timeonly</th>\n",
       "      <th>created_dateonly</th>\n",
       "      <th>...</th>\n",
       "      <th>user_geo_enabled</th>\n",
       "      <th>user_listed_count</th>\n",
       "      <th>user_location</th>\n",
       "      <th>user_statuses_count</th>\n",
       "      <th>user_time_zone</th>\n",
       "      <th>user_screen_name</th>\n",
       "      <th>file</th>\n",
       "    </tr>\n",
       "  </thead>\n",
       "  <tbody>\n",
       "    <tr>\n",
       "      <th>10000</th>\n",
       "      <td>10001</td>\n",
       "      <td>RT @ananavarro: Dear @chobani, thanks for the love. But I think you went a little over-board! 😜</td>\n",
       "      <td>en</td>\n",
       "      <td>Wed Jul 05 18:47:55</td>\n",
       "      <td>Wed</td>\n",
       "      <td>18:47:55</td>\n",
       "      <td>5/7/2017</td>\n",
       "      <td>...</td>\n",
       "      <td>True</td>\n",
       "      <td>399</td>\n",
       "      <td>Sacramento, CA</td>\n",
       "      <td>59561</td>\n",
       "      <td>NaN</td>\n",
       "      <td>clarisevail1</td>\n",
       "      <td>jsonfile_chobani.json</td>\n",
       "    </tr>\n",
       "    <tr>\n",
       "      <th>10001</th>\n",
       "      <td>10002</td>\n",
       "      <td>[Batman \"WHERE ARE THEY?!\" voic CHOBANI</td>\n",
       "      <td>en</td>\n",
       "      <td>Wed Jul 05 18:29:14</td>\n",
       "      <td>Wed</td>\n",
       "      <td>18:29:14</td>\n",
       "      <td>5/7/2017</td>\n",
       "      <td>...</td>\n",
       "      <td>False</td>\n",
       "      <td>2</td>\n",
       "      <td>NaN</td>\n",
       "      <td>1256</td>\n",
       "      <td>NaN</td>\n",
       "      <td>milk_death</td>\n",
       "      <td>jsonfile_chobani.json</td>\n",
       "    </tr>\n",
       "    <tr>\n",
       "      <th>10002</th>\n",
       "      <td>10003</td>\n",
       "      <td>Omg Chobani Is Coming Back To Whole Foods Just In Time For The Amazon Acquis (pls RT↺❤️) ️️  #P</td>\n",
       "      <td>en</td>\n",
       "      <td>Wed Jul 05 18:07:19</td>\n",
       "      <td>Wed</td>\n",
       "      <td>18:07:19</td>\n",
       "      <td>5/7/2017</td>\n",
       "      <td>...</td>\n",
       "      <td>False</td>\n",
       "      <td>27</td>\n",
       "      <td>NaN</td>\n",
       "      <td>242544</td>\n",
       "      <td>NaN</td>\n",
       "      <td>KnowYourLeaker</td>\n",
       "      <td>jsonfile_chobani.json</td>\n",
       "    </tr>\n",
       "  </tbody>\n",
       "</table>\n",
       "<p>3 rows × 25 columns</p>\n",
       "</div>"
      ],
      "text/plain": [
       "         Key  \\\n",
       "10000  10001   \n",
       "10001  10002   \n",
       "10002  10003   \n",
       "\n",
       "                                                                                                   text  \\\n",
       "10000  RT @ananavarro: Dear @chobani, thanks for the love. But I think you went a little over-board! 😜    \n",
       "10001                                                          [Batman \"WHERE ARE THEY?!\" voic CHOBANI    \n",
       "10002   Omg Chobani Is Coming Back To Whole Foods Just In Time For The Amazon Acquis (pls RT↺❤️) ️️  #P   \n",
       "\n",
       "      lang            created_at created_day  timeonly created_dateonly  ...  \\\n",
       "10000   en  Wed Jul 05 18:47:55          Wed  18:47:55         5/7/2017  ...   \n",
       "10001   en  Wed Jul 05 18:29:14          Wed  18:29:14         5/7/2017  ...   \n",
       "10002   en  Wed Jul 05 18:07:19          Wed  18:07:19         5/7/2017  ...   \n",
       "\n",
       "      user_geo_enabled  user_listed_count   user_location user_statuses_count  \\\n",
       "10000             True                399  Sacramento, CA               59561   \n",
       "10001            False                  2             NaN                1256   \n",
       "10002            False                 27             NaN              242544   \n",
       "\n",
       "      user_time_zone  user_screen_name                   file  \n",
       "10000            NaN      clarisevail1  jsonfile_chobani.json  \n",
       "10001            NaN        milk_death  jsonfile_chobani.json  \n",
       "10002            NaN    KnowYourLeaker  jsonfile_chobani.json  \n",
       "\n",
       "[3 rows x 25 columns]"
      ]
     },
     "metadata": {},
     "output_type": "display_data"
    }
   ],
   "source": [
    "# preprocessing.preprocess_data()\n",
    "csv_list = get_csv_files()\n",
    "\n",
    "combined_data_frame = combine_csv_data(csv_list)\n",
    "\n",
    "# remove twitter links - regex test here https://regex101.com/r/wZ0dAP/1\n",
    "combined_data_frame[\"text\"] = combined_data_frame[\"text\"].str.replace(\n",
    "    r\"http[s]?://t\\.[^\\s]*|[^[$]]\", \"\", regex=True\n",
    ")\n",
    "\n",
    "### Display datatable ###\n",
    "print(f\"Number of csv files ::: {len(csv_list)}\")\n",
    "print(f\"Combined data frame length ::: {len(combined_data_frame)} rows\")\n",
    "pd.set_option(\"display.max_columns\", 15)\n",
    "pd.set_option(\"display.max_colwidth\", 100)\n",
    "display(combined_data_frame.iloc[10000:].head(3))\n",
    "### for display purposes ###"
   ]
  },
  {
   "cell_type": "markdown",
   "metadata": {
    "slideshow": {
     "slide_type": "slide"
    }
   },
   "source": [
    "### Data Orgnization: Creation of a `Brand` Class\n",
    "\n",
    "<div style=\"display: flex; justify-content: space-between\">\n",
    "    <div style=\"margin: 2%\">\n",
    "\n",
    "```python\n",
    "@dataclass\n",
    "class Brand:\n",
    "    \"\"\"\n",
    "    Brand object\n",
    "    \"\"\"\n",
    "    twitter_handles: List[str]\n",
    "    brand_name: str\n",
    "    alternate_names: List[str] = field(default_factory=list)\n",
    "    negative_keywords: List[str] = field(default_factory=list)\n",
    "    is_nonspecific_name: bool = False\n",
    "    has_food_related_name: bool = False\n",
    "```\n",
    "\n",
    "</div>\n",
    "<div style=\"margin-left: 3%; margin-right: 3%;\">\n",
    "\n",
    "#### Example Brand:\n",
    "\n",
    "```python\n",
    "\"Activia\": Brand(\n",
    "    twitter_handles=[\n",
    "        \"@activia\",\n",
    "        \"@activiauk\",\n",
    "    ],\n",
    "    brand_name=\"Activia\",\n",
    "    negative_keywords=[\n",
    "        \"activia benz\",\n",
    "        \"mens-rights-activia\",\n",
    "    ],\n",
    "),\n",
    "```\n",
    "\n",
    "</div>\n",
    "</div>\n",
    "\n",
    "We structured our brand data using a dataclass called `Brand` which helps us:\n",
    "\n",
    "- <b><span style=\"color:#0074D9\">Categorize Brands:</span></b> Using Twitter handles and brand names.\n",
    "- <b><span style=\"color:#0074D9\">Handle Ambiguities:</span></b> Some brand names might be similar to everyday words. Including alternative names can help us capture tweets from different regions and even help to catch common mispellings.\n",
    "- <b><span style=\"color:#0074D9\">Filter Out Noise:</span></b> Using negative keywords, we can eliminate irrelevant tweets, ensuring our insights are grounded in relevant data.\n",
    "- <b><span style=\"color:#0074D9\">Address Special Cases:</span></b> Some brands might have non-specific names (e.g. - a brand name closely associated with food)\n"
   ]
  },
  {
   "cell_type": "markdown",
   "metadata": {
    "slideshow": {
     "slide_type": "slide"
    }
   },
   "source": [
    "### Data Cleansing:\n",
    "\n",
    "<h4 style=\"color: green\">We will show the journey of a single company's data: <code>\"Greek Gods\"</code> from raw data into processed data.</h4>\n",
    "\n",
    "<div>We took several steps in cleansing the data:</div>\n",
    "\n",
    "* We did not dedupe the text data as we wanted to track frequency of tweets.\n",
    "\n",
    "1. <b><span style=\"color:#0074D9\">Created Company List:</span></b> Given the unique names under the `file` column, we were left with [the following companies.](../notes/companies_list.txt)\n",
    "    * We <span style=\"color:crimson\">removed</span> <i>Vanilla Bean</i> as it appeared to not be a valid company.  Keeping it also muddied the analysis process due to its association with food.\n",
    "    <br><br>\n",
    "2. <b><span style=\"color:#0074D9\">Filtered Dataset:</span></b> We used several criteria to do this:\n",
    "    * <u>[Word Association Lists](../src/resources/word_lists.py)</u> - given to brands based on their \"uniqueness\"\n",
    "        * A brand like <span style=\"color: goldenrod\">Chobani</span> can be categorized as more unique than <span style=\"color: goldenrod\">Liberté`</span> given its French origin.\n",
    "        * <span style=\"color: goldenrod\">Greek Gods</span> is an example of a non-specific company name\n",
    "    * <u>Removing Negative Keywords</u> - Limited keywords that are known exceptions\n",
    "        * e.g. - A proper name like <span style=\"color: goldenrod\">Activia Jones</span> against a normally sufficiently unique <span style=\"color: goldenrod\">Activia</span> brand"
   ]
  },
  {
   "cell_type": "code",
   "execution_count": 3,
   "metadata": {
    "slideshow": {
     "slide_type": "fragment"
    }
   },
   "outputs": [
    {
     "name": "stdout",
     "output_type": "stream",
     "text": [
      "Number of relevant Greek Gods tweets found: 10\n"
     ]
    },
    {
     "data": {
      "text/html": [
       "<div>\n",
       "<style scoped>\n",
       "    .dataframe tbody tr th:only-of-type {\n",
       "        vertical-align: middle;\n",
       "    }\n",
       "\n",
       "    .dataframe tbody tr th {\n",
       "        vertical-align: top;\n",
       "    }\n",
       "\n",
       "    .dataframe thead th {\n",
       "        text-align: right;\n",
       "    }\n",
       "</style>\n",
       "<table border=\"1\" class=\"dataframe\">\n",
       "  <thead>\n",
       "    <tr style=\"text-align: right;\">\n",
       "      <th></th>\n",
       "      <th>Key</th>\n",
       "      <th>text</th>\n",
       "      <th>lang</th>\n",
       "      <th>created_at</th>\n",
       "      <th>created_day</th>\n",
       "      <th>...</th>\n",
       "      <th>user_location</th>\n",
       "      <th>user_statuses_count</th>\n",
       "      <th>user_time_zone</th>\n",
       "      <th>user_screen_name</th>\n",
       "      <th>file</th>\n",
       "    </tr>\n",
       "  </thead>\n",
       "  <tbody>\n",
       "    <tr>\n",
       "      <th>163</th>\n",
       "      <td>164</td>\n",
       "      <td>Get hip wth fermentation.  \"Oui\" goes up against the Greek gods and goddesses of yogurt.</td>\n",
       "      <td>en</td>\n",
       "      <td>Mon Jun 26 20:04:26</td>\n",
       "      <td>Mon</td>\n",
       "      <td>...</td>\n",
       "      <td>NYC, Chicago, DC, Montreal</td>\n",
       "      <td>465</td>\n",
       "      <td>Central Time (US &amp; Canada)</td>\n",
       "      <td>nasermu</td>\n",
       "      <td>jsonfile_today_greek_gods_ny.json</td>\n",
       "    </tr>\n",
       "    <tr>\n",
       "      <th>401</th>\n",
       "      <td>402</td>\n",
       "      <td>Greek Gods Yogurt mission is \"to deliver authentic Greek-style products that embody those flavor...</td>\n",
       "      <td>en</td>\n",
       "      <td>Thu Jun 22 23:20:07</td>\n",
       "      <td>Thu</td>\n",
       "      <td>...</td>\n",
       "      <td>Stanton, CA</td>\n",
       "      <td>1221</td>\n",
       "      <td>Pacific Time (US &amp; Canada)</td>\n",
       "      <td>SocialSampling</td>\n",
       "      <td>jsonfile_today_greek_gods_ny.json</td>\n",
       "    </tr>\n",
       "    <tr>\n",
       "      <th>419</th>\n",
       "      <td>420</td>\n",
       "      <td>Greek Gods Yogurt $1.79 at @Safeway after deal, save 55%!\\n\\n#Safeway #Coupon #SafewayDeals…</td>\n",
       "      <td>en</td>\n",
       "      <td>Thu Jun 22 17:19:04</td>\n",
       "      <td>Thu</td>\n",
       "      <td>...</td>\n",
       "      <td>Colorado</td>\n",
       "      <td>3471</td>\n",
       "      <td>Mountain Time (US &amp; Canada)</td>\n",
       "      <td>SuperSafeway</td>\n",
       "      <td>jsonfile_today_greek_gods_ny.json</td>\n",
       "    </tr>\n",
       "  </tbody>\n",
       "</table>\n",
       "<p>3 rows × 25 columns</p>\n",
       "</div>"
      ],
      "text/plain": [
       "     Key  \\\n",
       "163  164   \n",
       "401  402   \n",
       "419  420   \n",
       "\n",
       "                                                                                                    text  \\\n",
       "163            Get hip wth fermentation.  \"Oui\" goes up against the Greek gods and goddesses of yogurt.    \n",
       "401  Greek Gods Yogurt mission is \"to deliver authentic Greek-style products that embody those flavor...   \n",
       "419        Greek Gods Yogurt $1.79 at @Safeway after deal, save 55%!\\n\\n#Safeway #Coupon #SafewayDeals…    \n",
       "\n",
       "    lang            created_at created_day  ...               user_location  \\\n",
       "163   en  Mon Jun 26 20:04:26          Mon  ...  NYC, Chicago, DC, Montreal   \n",
       "401   en  Thu Jun 22 23:20:07          Thu  ...                 Stanton, CA   \n",
       "419   en  Thu Jun 22 17:19:04          Thu  ...                    Colorado   \n",
       "\n",
       "    user_statuses_count               user_time_zone  user_screen_name  \\\n",
       "163                 465   Central Time (US & Canada)           nasermu   \n",
       "401                1221   Pacific Time (US & Canada)    SocialSampling   \n",
       "419                3471  Mountain Time (US & Canada)      SuperSafeway   \n",
       "\n",
       "                                  file  \n",
       "163  jsonfile_today_greek_gods_ny.json  \n",
       "401  jsonfile_today_greek_gods_ny.json  \n",
       "419  jsonfile_today_greek_gods_ny.json  \n",
       "\n",
       "[3 rows x 25 columns]"
      ]
     },
     "metadata": {},
     "output_type": "display_data"
    }
   ],
   "source": [
    "# preprocess.prepare_data_for_filtering()\n",
    "brand = \"Greek Gods\"\n",
    "\n",
    "if brands[brand]:\n",
    "    filtered_data_frame = filter_irrelevant_data(combined_data_frame, brand=brands[brand], relevancy_threshold=0)\n",
    "    filtered_data_frame = remove_tweets_with_negative_keywords(filtered_data_frame, brands[brand])\n",
    "\n",
    "    pd.set_option(\"display.max_columns\", 10)\n",
    "    pd.set_option(\"display.max_colwidth\", 100)\n",
    "    display(filtered_data_frame.head(3))"
   ]
  },
  {
   "cell_type": "markdown",
   "metadata": {
    "slideshow": {
     "slide_type": "slide"
    }
   },
   "source": [
    "## `Step 2: Perform Sentiment Analysis`"
   ]
  },
  {
   "cell_type": "code",
   "execution_count": 4,
   "metadata": {
    "slideshow": {
     "slide_type": "fragment"
    }
   },
   "outputs": [
    {
     "name": "stderr",
     "output_type": "stream",
     "text": [
      "Analyzing sentiments: 100%|██████████| 1/1 [00:00<00:00,  1.15it/s]\n"
     ]
    },
    {
     "data": {
      "text/html": [
       "<div>\n",
       "<style scoped>\n",
       "    .dataframe tbody tr th:only-of-type {\n",
       "        vertical-align: middle;\n",
       "    }\n",
       "\n",
       "    .dataframe tbody tr th {\n",
       "        vertical-align: top;\n",
       "    }\n",
       "\n",
       "    .dataframe thead th {\n",
       "        text-align: right;\n",
       "    }\n",
       "</style>\n",
       "<table border=\"1\" class=\"dataframe\">\n",
       "  <thead>\n",
       "    <tr style=\"text-align: right;\">\n",
       "      <th></th>\n",
       "      <th>Key</th>\n",
       "      <th>text</th>\n",
       "      <th>lang</th>\n",
       "      <th>created_at</th>\n",
       "      <th>created_day</th>\n",
       "      <th>...</th>\n",
       "      <th>user_screen_name</th>\n",
       "      <th>file</th>\n",
       "      <th>sentiment_score</th>\n",
       "      <th>sentiment</th>\n",
       "      <th>company_name</th>\n",
       "    </tr>\n",
       "  </thead>\n",
       "  <tbody>\n",
       "    <tr>\n",
       "      <th>0</th>\n",
       "      <td>164</td>\n",
       "      <td>Get hip wth fermentation.  \"Oui\" goes up against the Greek gods and goddesses of yogurt.</td>\n",
       "      <td>en</td>\n",
       "      <td>Mon Jun 26 20:04:26</td>\n",
       "      <td>Mon</td>\n",
       "      <td>...</td>\n",
       "      <td>nasermu</td>\n",
       "      <td>jsonfile_today_greek_gods_ny.json</td>\n",
       "      <td>0.691087</td>\n",
       "      <td>neutral</td>\n",
       "      <td>greek_gods</td>\n",
       "    </tr>\n",
       "    <tr>\n",
       "      <th>1</th>\n",
       "      <td>402</td>\n",
       "      <td>Greek Gods Yogurt mission is \"to deliver authentic Greek-style products that embody those flavor...</td>\n",
       "      <td>en</td>\n",
       "      <td>Thu Jun 22 23:20:07</td>\n",
       "      <td>Thu</td>\n",
       "      <td>...</td>\n",
       "      <td>SocialSampling</td>\n",
       "      <td>jsonfile_today_greek_gods_ny.json</td>\n",
       "      <td>0.510627</td>\n",
       "      <td>positive</td>\n",
       "      <td>greek_gods</td>\n",
       "    </tr>\n",
       "    <tr>\n",
       "      <th>2</th>\n",
       "      <td>420</td>\n",
       "      <td>Greek Gods Yogurt $1.79 at @Safeway after deal, save 55%!\\n\\n#Safeway #Coupon #SafewayDeals…</td>\n",
       "      <td>en</td>\n",
       "      <td>Thu Jun 22 17:19:04</td>\n",
       "      <td>Thu</td>\n",
       "      <td>...</td>\n",
       "      <td>SuperSafeway</td>\n",
       "      <td>jsonfile_today_greek_gods_ny.json</td>\n",
       "      <td>0.827519</td>\n",
       "      <td>positive</td>\n",
       "      <td>greek_gods</td>\n",
       "    </tr>\n",
       "    <tr>\n",
       "      <th>3</th>\n",
       "      <td>2786</td>\n",
       "      <td>Get hip wth fermentation.  \"Oui\" goes up against the Greek gods and goddesses of yogurt.</td>\n",
       "      <td>en</td>\n",
       "      <td>Mon Jun 26 20:04:26</td>\n",
       "      <td>Mon</td>\n",
       "      <td>...</td>\n",
       "      <td>nasermu</td>\n",
       "      <td>jsonfile_today_yoplait_ny.json</td>\n",
       "      <td>0.691087</td>\n",
       "      <td>neutral</td>\n",
       "      <td>greek_gods</td>\n",
       "    </tr>\n",
       "    <tr>\n",
       "      <th>4</th>\n",
       "      <td>4090</td>\n",
       "      <td>Do you know how people binge eat ice cream when they're emotional. That's how I am but with hone...</td>\n",
       "      <td>en</td>\n",
       "      <td>Mon Jul 03 14:57:22</td>\n",
       "      <td>Mon</td>\n",
       "      <td>...</td>\n",
       "      <td>desteniemarie</td>\n",
       "      <td>jsonfile_greek gods.json</td>\n",
       "      <td>0.650827</td>\n",
       "      <td>positive</td>\n",
       "      <td>greek_gods</td>\n",
       "    </tr>\n",
       "    <tr>\n",
       "      <th>5</th>\n",
       "      <td>4160</td>\n",
       "      <td>@LiberteUSA I still purchase Liberte but now it's not the only brand I purchase. Greek Gods is w...</td>\n",
       "      <td>en</td>\n",
       "      <td>Sun Jul 02 05:59:11</td>\n",
       "      <td>Sun</td>\n",
       "      <td>...</td>\n",
       "      <td>nastywmnlabmngr</td>\n",
       "      <td>jsonfile_greek gods.json</td>\n",
       "      <td>0.785935</td>\n",
       "      <td>positive</td>\n",
       "      <td>greek_gods</td>\n",
       "    </tr>\n",
       "    <tr>\n",
       "      <th>6</th>\n",
       "      <td>4611</td>\n",
       "      <td>@LiberteUSA I still purchase Liberte but now it's not the only brand I purchase. Greek Gods is w...</td>\n",
       "      <td>en</td>\n",
       "      <td>Sun Jul 02 05:59:11</td>\n",
       "      <td>Sun</td>\n",
       "      <td>...</td>\n",
       "      <td>nastywmnlabmngr</td>\n",
       "      <td>jsonfile_liberte.json</td>\n",
       "      <td>0.785935</td>\n",
       "      <td>positive</td>\n",
       "      <td>greek_gods</td>\n",
       "    </tr>\n",
       "    <tr>\n",
       "      <th>7</th>\n",
       "      <td>10791</td>\n",
       "      <td>I'm such a fiend for my s'mores chobani and my strawberry honey Greek gods yogurt. Like yes. All...</td>\n",
       "      <td>en</td>\n",
       "      <td>Tue Jul 25 23:03:43</td>\n",
       "      <td>Tue</td>\n",
       "      <td>...</td>\n",
       "      <td>AyeStoney</td>\n",
       "      <td>jsonfile_chobani.json</td>\n",
       "      <td>0.954481</td>\n",
       "      <td>positive</td>\n",
       "      <td>greek_gods</td>\n",
       "    </tr>\n",
       "    <tr>\n",
       "      <th>8</th>\n",
       "      <td>13001</td>\n",
       "      <td>RT @nasermu: Get hip wth fermentation.  \"Oui\" goes up against the Greek gods and goddesses of yo...</td>\n",
       "      <td>en</td>\n",
       "      <td>Tue Jul 25 09:25:42</td>\n",
       "      <td>Tue</td>\n",
       "      <td>...</td>\n",
       "      <td>MonikaMckay8</td>\n",
       "      <td>jsonfile_yoplait.json</td>\n",
       "      <td>0.798180</td>\n",
       "      <td>neutral</td>\n",
       "      <td>greek_gods</td>\n",
       "    </tr>\n",
       "    <tr>\n",
       "      <th>9</th>\n",
       "      <td>17032</td>\n",
       "      <td>(please read previous tweet) @browncowyogurt @FAGEUSA @Stonyfield, @LiberteUSA @YoCrunch @Powerf...</td>\n",
       "      <td>en</td>\n",
       "      <td>Tue Aug 08 20:35:21</td>\n",
       "      <td>Tue</td>\n",
       "      <td>...</td>\n",
       "      <td>sweetbob</td>\n",
       "      <td>jsonfile_Stonyfield.json</td>\n",
       "      <td>0.817065</td>\n",
       "      <td>neutral</td>\n",
       "      <td>greek_gods</td>\n",
       "    </tr>\n",
       "  </tbody>\n",
       "</table>\n",
       "<p>10 rows × 28 columns</p>\n",
       "</div>"
      ],
      "text/plain": [
       "     Key  \\\n",
       "0    164   \n",
       "1    402   \n",
       "2    420   \n",
       "3   2786   \n",
       "4   4090   \n",
       "5   4160   \n",
       "6   4611   \n",
       "7  10791   \n",
       "8  13001   \n",
       "9  17032   \n",
       "\n",
       "                                                                                                  text  \\\n",
       "0            Get hip wth fermentation.  \"Oui\" goes up against the Greek gods and goddesses of yogurt.    \n",
       "1  Greek Gods Yogurt mission is \"to deliver authentic Greek-style products that embody those flavor...   \n",
       "2        Greek Gods Yogurt $1.79 at @Safeway after deal, save 55%!\\n\\n#Safeway #Coupon #SafewayDeals…    \n",
       "3            Get hip wth fermentation.  \"Oui\" goes up against the Greek gods and goddesses of yogurt.    \n",
       "4  Do you know how people binge eat ice cream when they're emotional. That's how I am but with hone...   \n",
       "5  @LiberteUSA I still purchase Liberte but now it's not the only brand I purchase. Greek Gods is w...   \n",
       "6  @LiberteUSA I still purchase Liberte but now it's not the only brand I purchase. Greek Gods is w...   \n",
       "7  I'm such a fiend for my s'mores chobani and my strawberry honey Greek gods yogurt. Like yes. All...   \n",
       "8  RT @nasermu: Get hip wth fermentation.  \"Oui\" goes up against the Greek gods and goddesses of yo...   \n",
       "9  (please read previous tweet) @browncowyogurt @FAGEUSA @Stonyfield, @LiberteUSA @YoCrunch @Powerf...   \n",
       "\n",
       "  lang            created_at created_day  ... user_screen_name  \\\n",
       "0   en  Mon Jun 26 20:04:26          Mon  ...          nasermu   \n",
       "1   en  Thu Jun 22 23:20:07          Thu  ...   SocialSampling   \n",
       "2   en  Thu Jun 22 17:19:04          Thu  ...     SuperSafeway   \n",
       "3   en  Mon Jun 26 20:04:26          Mon  ...          nasermu   \n",
       "4   en  Mon Jul 03 14:57:22          Mon  ...    desteniemarie   \n",
       "5   en  Sun Jul 02 05:59:11          Sun  ...  nastywmnlabmngr   \n",
       "6   en  Sun Jul 02 05:59:11          Sun  ...  nastywmnlabmngr   \n",
       "7   en  Tue Jul 25 23:03:43          Tue  ...        AyeStoney   \n",
       "8   en  Tue Jul 25 09:25:42          Tue  ...     MonikaMckay8   \n",
       "9   en  Tue Aug 08 20:35:21          Tue  ...         sweetbob   \n",
       "\n",
       "                                file sentiment_score  sentiment  company_name  \n",
       "0  jsonfile_today_greek_gods_ny.json        0.691087    neutral    greek_gods  \n",
       "1  jsonfile_today_greek_gods_ny.json        0.510627   positive    greek_gods  \n",
       "2  jsonfile_today_greek_gods_ny.json        0.827519   positive    greek_gods  \n",
       "3     jsonfile_today_yoplait_ny.json        0.691087    neutral    greek_gods  \n",
       "4           jsonfile_greek gods.json        0.650827   positive    greek_gods  \n",
       "5           jsonfile_greek gods.json        0.785935   positive    greek_gods  \n",
       "6              jsonfile_liberte.json        0.785935   positive    greek_gods  \n",
       "7              jsonfile_chobani.json        0.954481   positive    greek_gods  \n",
       "8              jsonfile_yoplait.json        0.798180    neutral    greek_gods  \n",
       "9           jsonfile_Stonyfield.json        0.817065    neutral    greek_gods  \n",
       "\n",
       "[10 rows x 28 columns]"
      ]
     },
     "execution_count": 4,
     "metadata": {},
     "output_type": "execute_result"
    }
   ],
   "source": [
    "brand_name_snake_case = brand.lower().replace(\" \", \"_\")\n",
    "analyze(\n",
    "    data_frame=filtered_data_frame,\n",
    "    company_name=brand_name_snake_case,\n",
    ")\n",
    "pd.read_csv(f\"data/processed/companies/{brand_name_snake_case}/{brand_name_snake_case}_relevant_tweets.csv\")"
   ]
  },
  {
   "cell_type": "markdown",
   "metadata": {
    "slideshow": {
     "slide_type": "slide"
    }
   },
   "source": [
    "## `Step 3: Get the top words and bigrams for each company`"
   ]
  },
  {
   "cell_type": "code",
   "execution_count": null,
   "metadata": {
    "slideshow": {
     "slide_type": "fragment"
    }
   },
   "outputs": [],
   "source": [
    "theme_analyzer_main(filtered_data_frame)"
   ]
  },
  {
   "cell_type": "markdown",
   "metadata": {},
   "source": [
    "## `Step 4: Plot data related to top words and bigrams`"
   ]
  },
  {
   "cell_type": "code",
   "execution_count": null,
   "metadata": {},
   "outputs": [],
   "source": [
    "# not completed yet"
   ]
  },
  {
   "cell_type": "markdown",
   "metadata": {
    "slideshow": {
     "slide_type": "slide"
    }
   },
   "source": [
    "## `Step 5: Present findings`"
   ]
  },
  {
   "cell_type": "markdown",
   "metadata": {
    "slideshow": {
     "slide_type": "subslide"
    }
   },
   "source": [
    "* Companies `Wallaby`, `Maple Hill`, `Smari` did not have sufficient data to draw any conclusions\n",
    "* Company`Greek Gods` had limited data, but there were themes\n",
    "    * Based on the limited data there was very positive reaction to the brand with some even switching from other brands like Chobani"
   ]
  },
  {
   "cell_type": "markdown",
   "metadata": {
    "slideshow": {
     "slide_type": "slide"
    }
   },
   "source": [
    "## Other brands\n",
    "### Activia\n",
    "    * A large number tweets from bigrams and top words focused on spokesperson Jamie Lee Curtis\n",
    "\n",
    "```csv\n",
    "bigram,frequency\n",
    "\"('jamie', 'lee')\",20\n",
    "\"('lee', 'curtis')\",18\n",
    "\"('👌', '👌')\",10\n",
    "```\n",
    "\n",
    "### Chobani\n",
    "    * A large number tweets from bigrams and top words focused on a feature appearance of CEO Hamdi Ulukaya on the cover of Fast Company magazine\n",
    "    * The title was How Chobani's Hamdi Ulukaya Is Winning America's Culture War\n",
    "```csv\n",
    "bigram,frequency\n",
    "\"('guy', 'got')\",271\n",
    "\"('got', 'war')\",271\n",
    "\"('war', 'lost')\",271\n",
    "```\n",
    "\n",
    "### Liberte\n",
    "    * Tweets were focused around a recall at the time of Liberte products\n",
    "```csv\n",
    "\"('recall', 'liberte')\",280\n",
    "\"('expands', 'recall')\",278\n",
    "\"('canadian', 'food')\",256\n",
    "\"('food', 'inspection')\",254\n",
    "```"
   ]
  },
  {
   "cell_type": "markdown",
   "metadata": {},
   "source": [
    "## `Potential Improvements`\n",
    "* Use NER (Named Entity Recognition) for getting yogurt and company related keywords\n",
    "* Utilize NTLK for initial data filtering\n",
    "* Obtain a more complete dataset of yogurt brands and twitter handles\n",
    "* Obtain a list of hashtags related to yogurt brands\n",
    "* Multi-lingual analysis\n",
    "    * Could remove false captures like \"activia\" as a brand"
   ]
  }
 ],
 "metadata": {
  "celltoolbar": "Slideshow",
  "kernelspec": {
   "display_name": "Python 3 (ipykernel)",
   "language": "python",
   "name": "python3"
  },
  "language_info": {
   "codemirror_mode": {
    "name": "ipython",
    "version": 3
   },
   "file_extension": ".py",
   "mimetype": "text/x-python",
   "name": "python",
   "nbconvert_exporter": "python",
   "pygments_lexer": "ipython3",
   "version": "3.11.4"
  },
  "rise": {
   "auto_select": "code",
   "enable_chalkboard": true,
   "scroll": true,
   "theme": "night"
  }
 },
 "nbformat": 4,
 "nbformat_minor": 2
}
